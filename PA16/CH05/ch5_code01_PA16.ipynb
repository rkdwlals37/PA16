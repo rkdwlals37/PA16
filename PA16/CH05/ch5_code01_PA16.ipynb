{
  "nbformat": 4,
  "nbformat_minor": 0,
  "metadata": {
    "colab": {
      "name": "ch5_code01_PA16.ipynb",
      "provenance": [],
      "collapsed_sections": [],
      "toc_visible": true,
      "include_colab_link": true
    },
    "kernelspec": {
      "display_name": "Python 3",
      "language": "python",
      "name": "python3"
    },
    "language_info": {
      "codemirror_mode": {
        "name": "ipython",
        "version": 3
      },
      "file_extension": ".py",
      "mimetype": "text/x-python",
      "name": "python",
      "nbconvert_exporter": "python",
      "pygments_lexer": "ipython3",
      "version": "3.7.5"
    }
  },
  "cells": [
    {
      "cell_type": "markdown",
      "metadata": {
        "id": "view-in-github",
        "colab_type": "text"
      },
      "source": [
        "<a href=\"https://colab.research.google.com/github/rkdwlals37/PA16/blob/main/PA16/CH05/ch5_code01_PA16.ipynb\" target=\"_parent\"><img src=\"https://colab.research.google.com/assets/colab-badge.svg\" alt=\"Open In Colab\"/></a>"
      ]
    },
    {
      "cell_type": "markdown",
      "metadata": {
        "id": "H4jNE-BMAK3f"
      },
      "source": [
        "# ch5_code01_PA16.ipynb\n",
        "## 5장 파이썬 날개달기\n",
        "## py16\n",
        "### 클래스, 모듈, 패키지\n",
        "---\n",
        "- 클래스\n",
        "   - 클래스는 왜 필요한가?\n",
        "   - 클래스와 객체\n",
        "   - 사칙연산 클래스 만들기\n",
        "     - 클래스를 어떻게 만들지 먼저 구상하기\n",
        "     - 클래스 구조 만들기\n",
        "     - 객체에 숫자 지정할 수 있게 만들기\n",
        "     - 더하기 기능 만들기\n",
        "     - 곱하기, 빼기, 나누기 기능 만들기\n",
        "   - 생성자 (Constructor)\n",
        "   - 클래스의 상속\n",
        "   - 메서드 오버라이딩\n",
        "   - 클래스 변수"
      ]
    },
    {
      "cell_type": "code",
      "metadata": {
        "id": "hXPcvn1CtW6z",
        "colab": {
          "base_uri": "https://localhost:8080/"
        },
        "outputId": "f7d874f5-9fe3-4a13-8a01-64c6bbebd124"
      },
      "source": [
        "# ch5_01_class.py\n",
        "#\n",
        "print(\"클래스란 무엇인가?\")\n",
        "#######################################\n",
        "# 클래스(class)\n",
        "#######################################"
      ],
      "execution_count": 1,
      "outputs": [
        {
          "output_type": "stream",
          "text": [
            "클래스란 무엇인가?\n"
          ],
          "name": "stdout"
        }
      ]
    },
    {
      "cell_type": "markdown",
      "metadata": {
        "id": "WTdSh2modqc-"
      },
      "source": [
        "# 클래스의 필요성\n",
        "- 지정된 기능을 수행하는 변수와 함수의 모음\n",
        "- 인스턴스, 즉 객체를 생성하여 기능을 이용\n",
        "- 코딩을 객체화"
      ]
    },
    {
      "cell_type": "code",
      "metadata": {
        "colab": {
          "base_uri": "https://localhost:8080/"
        },
        "id": "MBFE3qsIcoxO",
        "outputId": "b1e33042-1552-4058-f0d7-419c00a5c427"
      },
      "source": [
        "print(\"클래스는 왜 필요한가?\")\n",
        "#######################################\n",
        "# 지정된 기능을 수행하는 변수와 함수의 모음\n",
        "# 인스턴스, 즉 객체를 생성하여 기능을 이용\n",
        "# 코딩을 객체화\n",
        "#######################################\n",
        "# \n",
        "# [예] 이전에 계산한 결괏값을 기억하고 있는 계산기\n",
        "# \n",
        "result = 0\n",
        "\n",
        "def add(num):\n",
        "    global result\n",
        "    result += num\n",
        "    return result\n",
        "\n",
        "\n",
        "# 이전에 계산한 결괏값을 기억\n",
        "print(add(3))\n",
        "print(add(4))"
      ],
      "execution_count": 2,
      "outputs": [
        {
          "output_type": "stream",
          "text": [
            "클래스는 왜 필요한가?\n",
            "3\n",
            "7\n"
          ],
          "name": "stdout"
        }
      ]
    },
    {
      "cell_type": "code",
      "metadata": {
        "colab": {
          "base_uri": "https://localhost:8080/"
        },
        "id": "ZfWLvh-kd7cb",
        "outputId": "70999add-bd80-4570-a2a4-9b2db57cb00d"
      },
      "source": [
        "print(result)"
      ],
      "execution_count": 6,
      "outputs": [
        {
          "output_type": "stream",
          "text": [
            "7\n"
          ],
          "name": "stdout"
        }
      ]
    },
    {
      "cell_type": "code",
      "metadata": {
        "colab": {
          "base_uri": "https://localhost:8080/"
        },
        "id": "B7MRChKEdK6k",
        "outputId": "5f8c1a3e-c6da-4b11-a5da-16af3a0caf33"
      },
      "source": [
        "# 2대의 계산기가 필요한 상황이 발생하면?\n",
        "result1 = 0\n",
        "result2 = 0\n",
        "\n",
        "def add1(num):\n",
        "    global result1\n",
        "    result1 += num\n",
        "    return result1\n",
        "\n",
        "\n",
        "def add2(num):\n",
        "    global result2\n",
        "    result2 += num\n",
        "    return result2\n",
        "\n",
        "\n",
        "\n",
        "print(add1(3))\n",
        "print(add1(4))\n",
        "print(add2(3))\n",
        "print(add2(7))\n",
        "\n",
        "# 계산기 1의 결괏값이 계산기 2에 아무 영향을 끼치지 않음을 확인할 수 있다. \n",
        "# 하지만 계산기가 3개, 5개, 10개로 점점 더 많이 필요해진다면 어떻게 해야 할까? \n",
        "# 그때마다 전역 변수와 함수를 추가할 것인가? "
      ],
      "execution_count": 3,
      "outputs": [
        {
          "output_type": "stream",
          "text": [
            "3\n",
            "7\n",
            "3\n",
            "10\n"
          ],
          "name": "stdout"
        }
      ]
    },
    {
      "cell_type": "code",
      "metadata": {
        "colab": {
          "base_uri": "https://localhost:8080/"
        },
        "id": "0vEMWD8DeEH8",
        "outputId": "7aaf744b-eeec-4074-bd6b-7bf7d35f3622"
      },
      "source": [
        "result1, result2"
      ],
      "execution_count": 7,
      "outputs": [
        {
          "output_type": "execute_result",
          "data": {
            "text/plain": [
              "(7, 10)"
            ]
          },
          "metadata": {
            "tags": []
          },
          "execution_count": 7
        }
      ]
    },
    {
      "cell_type": "code",
      "metadata": {
        "colab": {
          "base_uri": "https://localhost:8080/"
        },
        "id": "nzEqEKy8dQkL",
        "outputId": "47085b1b-3f49-4638-cca3-ffada8e263ca"
      },
      "source": [
        "#######################################\n",
        "print(\"클래스를 사용하면 간단하게 해결\")\n",
        "#######################################\n",
        "# class Calculator\n",
        "class Calculator:\n",
        "    def __init__(self):\n",
        "        self.result = 0\n",
        "\n",
        "    def add(self, num):\n",
        "        self.result += num\n",
        "        return self.result\n",
        "    \n",
        "    # def sub(self, num):\n",
        "    #     self.result -= num\n",
        "    #     return self.result"
      ],
      "execution_count": 4,
      "outputs": [
        {
          "output_type": "stream",
          "text": [
            "클래스를 사용하면 간단하게 해결\n"
          ],
          "name": "stdout"
        }
      ]
    },
    {
      "cell_type": "code",
      "metadata": {
        "colab": {
          "base_uri": "https://localhost:8080/"
        },
        "id": "xsZ8YbbkdY0C",
        "outputId": "9ad936b9-c546-4b61-81bc-f218f58bea0f"
      },
      "source": [
        "cal1 = Calculator()\n",
        "cal2 = Calculator()\n",
        "\n",
        "print(cal1.add(3))\n",
        "print(cal1.add(4))\n",
        "print(cal2.add(3))\n",
        "print(cal2.add(7))"
      ],
      "execution_count": 13,
      "outputs": [
        {
          "output_type": "stream",
          "text": [
            "3\n",
            "7\n",
            "3\n",
            "10\n"
          ],
          "name": "stdout"
        }
      ]
    },
    {
      "cell_type": "code",
      "metadata": {
        "colab": {
          "base_uri": "https://localhost:8080/"
        },
        "id": "l0WJjQHGeLaU",
        "outputId": "d4f700db-d611-4985-cb6a-0879fbbb4114"
      },
      "source": [
        "cal3 = Calculator()\n",
        "cal3.add(10)"
      ],
      "execution_count": 8,
      "outputs": [
        {
          "output_type": "execute_result",
          "data": {
            "text/plain": [
              "10"
            ]
          },
          "metadata": {
            "tags": []
          },
          "execution_count": 8
        }
      ]
    },
    {
      "cell_type": "code",
      "metadata": {
        "colab": {
          "base_uri": "https://localhost:8080/"
        },
        "id": "iR8M_Hr_eNOr",
        "outputId": "1d1a985d-9c8e-4680-c086-8d1d0b6dac88"
      },
      "source": [
        "cal3.add(40)"
      ],
      "execution_count": 9,
      "outputs": [
        {
          "output_type": "execute_result",
          "data": {
            "text/plain": [
              "50"
            ]
          },
          "metadata": {
            "tags": []
          },
          "execution_count": 9
        }
      ]
    },
    {
      "cell_type": "code",
      "metadata": {
        "id": "ao0dZfnOeabu"
      },
      "source": [
        "# \n",
        "# 뺄셈(sub)을 추가하고 클래스의 객체를 다시 만들어서 사용한다.\n",
        "# \n",
        "# class Calculator\n",
        "class Calculator:\n",
        "    def __init__(self):\n",
        "        self.result = 0\n",
        "\n",
        "    def add(self, num):\n",
        "        self.result += num\n",
        "        return self.result\n",
        "        \n",
        "    def sub(self, num):\n",
        "       self.result -= num\n",
        "       return self.result"
      ],
      "execution_count": 14,
      "outputs": []
    },
    {
      "cell_type": "code",
      "metadata": {
        "colab": {
          "base_uri": "https://localhost:8080/"
        },
        "id": "DH_DE8umevbi",
        "outputId": "b62f5803-403b-4283-adab-dcefdad2b930"
      },
      "source": [
        "cal = Calculator()\n",
        "cal.add(100)\n",
        "cal.sub(50)"
      ],
      "execution_count": 15,
      "outputs": [
        {
          "output_type": "execute_result",
          "data": {
            "text/plain": [
              "50"
            ]
          },
          "metadata": {
            "tags": []
          },
          "execution_count": 15
        }
      ]
    },
    {
      "cell_type": "markdown",
      "metadata": {
        "id": "Xu8DhLc2eygV"
      },
      "source": [
        "# 클래스와 객체\n",
        "- 클래스(class)란 똑같은 무엇인가를 계속해서 만들어 낼 수 있는 설계 도면\n",
        "- 객체(object)란 클래스로 만든 피조물(과자 틀을 사용해 만든 과자)\n",
        "- 클래스(class) : 과자 틀 \n",
        "- 객체(object) : 과자 틀을 사용해 만든 과자\n",
        "- 동일한 클래스로 만든 객체들은 서로 전혀 영향을 주지 않는다."
      ]
    },
    {
      "cell_type": "code",
      "metadata": {
        "id": "JStqrlZxew4t"
      },
      "source": [
        ""
      ],
      "execution_count": null,
      "outputs": []
    },
    {
      "cell_type": "code",
      "metadata": {
        "colab": {
          "base_uri": "https://localhost:8080/"
        },
        "id": "25RLbrkWdeOJ",
        "outputId": "05440461-1fd3-4c5a-cec9-44645917b5bf"
      },
      "source": [
        " print(\"클래스와 객체\")\n",
        "#######################################\n",
        "# 클래스(class)란 똑같은 무엇인가를 계속해서 만들어 낼 수 있는 설계 도면\n",
        "# 객체(object)란 클래스로 만든 피조물(과자 틀을 사용해 만든 과자)\n",
        "#\n",
        "# 클래스(class) : 과자 틀 \n",
        "# 객체(object) : 과자 틀을 사용해 만든 과자\n",
        "#\n",
        "# 동일한 클래스로 만든 객체들은 서로 전혀 영향을 주지 않는다.\n",
        "#######################################\n",
        "\n",
        "# 간단한 클래스와 객체 \n",
        "class Cookie:\n",
        "    pass\n",
        "\n",
        "a = Cookie()\n",
        "b = Cookie()\n",
        "id(a), id(b)"
      ],
      "execution_count": 16,
      "outputs": [
        {
          "output_type": "stream",
          "text": [
            "클래스와 객체\n"
          ],
          "name": "stdout"
        },
        {
          "output_type": "execute_result",
          "data": {
            "text/plain": [
              "(139817089910352, 139817089911696)"
            ]
          },
          "metadata": {
            "tags": []
          },
          "execution_count": 16
        }
      ]
    },
    {
      "cell_type": "markdown",
      "metadata": {
        "id": "EpCtIykvfGuD"
      },
      "source": [
        "# 객체와 인스턴스의 차이\n",
        "- a = Cookie() 이렇게 만든 a는 객체이다. 그리고 a 객체는 Cookie의 인스턴스이다. 즉 인스턴스라는 말은 특정 객체(a)가 어떤 클래스(Cookie)의 객체인지를 관계 위주로 설명할 때 사용한다"
      ]
    },
    {
      "cell_type": "markdown",
      "metadata": {
        "id": "SAv9WYbbfS20"
      },
      "source": [
        "# 사칙연산 클래스 만들기\n",
        "- 사칙연산을 가능하게 하는 FourCal 클래스"
      ]
    },
    {
      "cell_type": "code",
      "metadata": {
        "colab": {
          "base_uri": "https://localhost:8080/"
        },
        "id": "Zwb428A2fCje",
        "outputId": "4cb6c56f-3a94-47fd-a8fd-10993ac5beac"
      },
      "source": [
        "print(\"사칙연산 클래스 만들기\")\n",
        "#######################################\n",
        "# 사칙연산을 가능하게 하는 FourCal 클래스\n",
        "# class FourCal\n",
        "#\n",
        "# Usage:\n",
        "# a = FourCal()\n",
        "# a.setdata(4, 2)\n",
        "# a.add(), a.sub(), a.mul(), a.div()\n",
        "#\n",
        "#######################################"
      ],
      "execution_count": 17,
      "outputs": [
        {
          "output_type": "stream",
          "text": [
            "사칙연산 클래스 만들기\n"
          ],
          "name": "stdout"
        }
      ]
    },
    {
      "cell_type": "code",
      "metadata": {
        "colab": {
          "base_uri": "https://localhost:8080/"
        },
        "id": "YVnw2ECyfaJ4",
        "outputId": "52651952-ae41-4d91-95f6-9ba6a2ef9bfa"
      },
      "source": [
        "print(\"1. FourCal 클래스 구조 만들기\")\n",
        "\n",
        "class FourCal:\n",
        "    pass\n",
        "\n",
        "\n",
        "# 객체 만들기\n",
        "a = FourCal()\n",
        "type(a), id(a)"
      ],
      "execution_count": 18,
      "outputs": [
        {
          "output_type": "stream",
          "text": [
            "1. FourCal 클래스 구조 만들기\n"
          ],
          "name": "stdout"
        },
        {
          "output_type": "execute_result",
          "data": {
            "text/plain": [
              "(__main__.FourCal, 139817089401872)"
            ]
          },
          "metadata": {
            "tags": []
          },
          "execution_count": 18
        }
      ]
    },
    {
      "cell_type": "code",
      "metadata": {
        "colab": {
          "base_uri": "https://localhost:8080/"
        },
        "id": "7WUOU9Gwfeaa",
        "outputId": "00b1cd4e-68c3-4992-bddf-26b9cb8b3e3c"
      },
      "source": [
        "#######################################\n",
        "print(\"2. 객체에 숫자 지정할 수 있게 만들기\")\n",
        "# function setdata()  # method\n",
        "\n",
        "class FourCal:\n",
        "   def setdata(self, first, second):\n",
        "       self.first = first\n",
        "       self.second = second"
      ],
      "execution_count": 19,
      "outputs": [
        {
          "output_type": "stream",
          "text": [
            "2. 객체에 숫자 지정할 수 있게 만들기\n"
          ],
          "name": "stdout"
        }
      ]
    },
    {
      "cell_type": "code",
      "metadata": {
        "colab": {
          "base_uri": "https://localhost:8080/"
        },
        "id": "sFJwbTBHfh_v",
        "outputId": "151ae40c-5ba2-4cd8-85d1-8a62eb3b08fe"
      },
      "source": [
        "a = FourCal()\n",
        "a.setdata(4, 2)\n",
        "\n",
        "# 객체 변수\n",
        "a.first    # self.first\n",
        "a.second   # self.second"
      ],
      "execution_count": 20,
      "outputs": [
        {
          "output_type": "execute_result",
          "data": {
            "text/plain": [
              "2"
            ]
          },
          "metadata": {
            "tags": []
          },
          "execution_count": 20
        }
      ]
    },
    {
      "cell_type": "code",
      "metadata": {
        "colab": {
          "base_uri": "https://localhost:8080/"
        },
        "id": "50jdhad6fkxf",
        "outputId": "225ce059-dff5-4529-cf00-3badb6d257f4"
      },
      "source": [
        "# 객체를 이용하기\n",
        "a = FourCal()\n",
        "b = FourCal()\n",
        "\n",
        "a is b\n",
        "\n",
        "type(a), id(a)\n",
        "type(b), id(b)\n",
        "\n",
        "a.setdata(4, 2)\n",
        "print(a.first)\n",
        "b.setdata(3, 7)\n",
        "print(b.first)\n",
        "\n",
        "print(a.first)  # what value?\n",
        "# a 객체의 first 값은 b 객체의 first 값에 영향받지 않고 원래 값을 유지\n",
        "# 클래스로 만든 객체의 객체변수는 다른 객체의 객체변수에 상관없이 독립적인 값을 유지\n",
        "\n",
        "id(a.first), id(b.first)\n",
        "\n",
        "#######################################"
      ],
      "execution_count": 21,
      "outputs": [
        {
          "output_type": "stream",
          "text": [
            "4\n",
            "3\n",
            "4\n"
          ],
          "name": "stdout"
        },
        {
          "output_type": "execute_result",
          "data": {
            "text/plain": [
              "(94380497062496, 94380497062464)"
            ]
          },
          "metadata": {
            "tags": []
          },
          "execution_count": 21
        }
      ]
    },
    {
      "cell_type": "code",
      "metadata": {
        "colab": {
          "base_uri": "https://localhost:8080/"
        },
        "id": "leVYOG1dfsKt",
        "outputId": "7da58b77-a5ac-440c-a001-bbd13771146c"
      },
      "source": [
        "print(\"3. 더하기 기능 만들기\")\n",
        "# function add()  # method\n",
        "\n",
        "class FourCal:\n",
        "    def setdata(self, first, second):\n",
        "        self.first = first\n",
        "        self.second = second\n",
        "\n",
        "    def add(self):\n",
        "        result = self.first + self.second\n",
        "        return result\n",
        "    \n",
        "\n",
        "a = FourCal()\n",
        "a.setdata(4, 2)\n",
        "a.add()\n",
        "\n",
        "#######################################"
      ],
      "execution_count": 22,
      "outputs": [
        {
          "output_type": "stream",
          "text": [
            "3. 더하기 기능 만들기\n"
          ],
          "name": "stdout"
        },
        {
          "output_type": "execute_result",
          "data": {
            "text/plain": [
              "6"
            ]
          },
          "metadata": {
            "tags": []
          },
          "execution_count": 22
        }
      ]
    },
    {
      "cell_type": "code",
      "metadata": {
        "colab": {
          "base_uri": "https://localhost:8080/"
        },
        "id": "ZUXSV1Zzfv8s",
        "outputId": "bc516e61-294b-4106-dbd8-51444040582b"
      },
      "source": [
        "print(\"4. 곱하기, 빼기, 나누기 기능 추가\")\n",
        "# function sub(), mul(), div()\n",
        "\n",
        "class FourCal:\n",
        "    def setdata(self, first, second):\n",
        "        self.first = first\n",
        "        self.second = second\n",
        "        \n",
        "    def add(self):\n",
        "        result = self.first + self.second\n",
        "        return result\n",
        "\n",
        "    def sub(self):\n",
        "        result = self.first - self.second\n",
        "        return result\n",
        "\n",
        "    def mul(self):\n",
        "        result = self.first * self.second\n",
        "        return result\n",
        "\n",
        "    def div(self):\n",
        "        result = self.first / self.second\n",
        "        return result\n",
        "    \n",
        "\n",
        "  \n",
        "a = FourCal()\n",
        "b = FourCal()\n",
        "\n",
        "a.setdata(4, 2)\n",
        "b.setdata(3, 8)\n",
        "\n",
        "a.add(), a.sub(), a.mul(), a.div()\n",
        "b.add(), b.sub(), b.mul(), b.div()\n",
        "\n",
        "#######################################"
      ],
      "execution_count": 23,
      "outputs": [
        {
          "output_type": "stream",
          "text": [
            "4. 곱하기, 빼기, 나누기 기능 추가\n"
          ],
          "name": "stdout"
        },
        {
          "output_type": "execute_result",
          "data": {
            "text/plain": [
              "(11, -5, 24, 0.375)"
            ]
          },
          "metadata": {
            "tags": []
          },
          "execution_count": 23
        }
      ]
    },
    {
      "cell_type": "code",
      "metadata": {
        "colab": {
          "base_uri": "https://localhost:8080/",
          "height": 384
        },
        "id": "L6GzREUdf0dt",
        "outputId": "4b777cb6-2df1-4b25-f014-e5d8cafb0f01"
      },
      "source": [
        "print(\"생성자 (Constructor)\")\n",
        "#######################################\n",
        "#\n",
        "# __init__()\n",
        "#\n",
        "\n",
        "a = FourCal()\n",
        "a.add()   #  AttributeError\n",
        "\n",
        "#######################################"
      ],
      "execution_count": 24,
      "outputs": [
        {
          "output_type": "stream",
          "text": [
            "생성자 (Constructor)\n"
          ],
          "name": "stdout"
        },
        {
          "output_type": "error",
          "ename": "AttributeError",
          "evalue": "ignored",
          "traceback": [
            "\u001b[0;31m---------------------------------------------------------------------------\u001b[0m",
            "\u001b[0;31mAttributeError\u001b[0m                            Traceback (most recent call last)",
            "\u001b[0;32m<ipython-input-24-2fd920182a45>\u001b[0m in \u001b[0;36m<module>\u001b[0;34m()\u001b[0m\n\u001b[1;32m      6\u001b[0m \u001b[0;34m\u001b[0m\u001b[0m\n\u001b[1;32m      7\u001b[0m \u001b[0ma\u001b[0m \u001b[0;34m=\u001b[0m \u001b[0mFourCal\u001b[0m\u001b[0;34m(\u001b[0m\u001b[0;34m)\u001b[0m\u001b[0;34m\u001b[0m\u001b[0;34m\u001b[0m\u001b[0m\n\u001b[0;32m----> 8\u001b[0;31m \u001b[0ma\u001b[0m\u001b[0;34m.\u001b[0m\u001b[0madd\u001b[0m\u001b[0;34m(\u001b[0m\u001b[0;34m)\u001b[0m   \u001b[0;31m#  AttributeError\u001b[0m\u001b[0;34m\u001b[0m\u001b[0;34m\u001b[0m\u001b[0m\n\u001b[0m\u001b[1;32m      9\u001b[0m \u001b[0;34m\u001b[0m\u001b[0m\n\u001b[1;32m     10\u001b[0m \u001b[0;31m#######################################\u001b[0m\u001b[0;34m\u001b[0m\u001b[0;34m\u001b[0m\u001b[0;34m\u001b[0m\u001b[0m\n",
            "\u001b[0;32m<ipython-input-23-8ca2b79d145a>\u001b[0m in \u001b[0;36madd\u001b[0;34m(self)\u001b[0m\n\u001b[1;32m      8\u001b[0m \u001b[0;34m\u001b[0m\u001b[0m\n\u001b[1;32m      9\u001b[0m     \u001b[0;32mdef\u001b[0m \u001b[0madd\u001b[0m\u001b[0;34m(\u001b[0m\u001b[0mself\u001b[0m\u001b[0;34m)\u001b[0m\u001b[0;34m:\u001b[0m\u001b[0;34m\u001b[0m\u001b[0;34m\u001b[0m\u001b[0m\n\u001b[0;32m---> 10\u001b[0;31m         \u001b[0mresult\u001b[0m \u001b[0;34m=\u001b[0m \u001b[0mself\u001b[0m\u001b[0;34m.\u001b[0m\u001b[0mfirst\u001b[0m \u001b[0;34m+\u001b[0m \u001b[0mself\u001b[0m\u001b[0;34m.\u001b[0m\u001b[0msecond\u001b[0m\u001b[0;34m\u001b[0m\u001b[0;34m\u001b[0m\u001b[0m\n\u001b[0m\u001b[1;32m     11\u001b[0m         \u001b[0;32mreturn\u001b[0m \u001b[0mresult\u001b[0m\u001b[0;34m\u001b[0m\u001b[0;34m\u001b[0m\u001b[0m\n\u001b[1;32m     12\u001b[0m \u001b[0;34m\u001b[0m\u001b[0m\n",
            "\u001b[0;31mAttributeError\u001b[0m: 'FourCal' object has no attribute 'first'"
          ]
        }
      ]
    },
    {
      "cell_type": "code",
      "metadata": {
        "id": "n6H-nyEkf4mT"
      },
      "source": [
        "class FourCal:\n",
        "    def __init__(self, first, second):\n",
        "        self.first = first\n",
        "        self.second = second\n",
        "\n",
        "    def setdata(self, first, second):\n",
        "        self.first = first\n",
        "        self.second = second\n",
        "        \n",
        "    def add(self):\n",
        "        result = self.first + self.second\n",
        "        return result\n",
        "\n",
        "    def sub(self):\n",
        "        result = self.first - self.second\n",
        "        return result\n",
        "\n",
        "    def mul(self):\n",
        "        result = self.first * self.second\n",
        "        return result\n",
        "\n",
        "    def div(self):\n",
        "        result = self.first / self.second\n",
        "        return result"
      ],
      "execution_count": 27,
      "outputs": []
    },
    {
      "cell_type": "code",
      "metadata": {
        "colab": {
          "base_uri": "https://localhost:8080/",
          "height": 241
        },
        "id": "TTCVBECKf7c3",
        "outputId": "96b96298-fd37-4401-9d04-8c085a016662"
      },
      "source": [
        "a = FourCal()   # TypeError:\n",
        "\n",
        "a = FourCal(4, 2)\n",
        "a.first, a.second\n",
        "\n",
        "a.mul()\n",
        "\n",
        "\n",
        "#######################################"
      ],
      "execution_count": 28,
      "outputs": [
        {
          "output_type": "error",
          "ename": "TypeError",
          "evalue": "ignored",
          "traceback": [
            "\u001b[0;31m---------------------------------------------------------------------------\u001b[0m",
            "\u001b[0;31mTypeError\u001b[0m                                 Traceback (most recent call last)",
            "\u001b[0;32m<ipython-input-28-7941b9e94a3b>\u001b[0m in \u001b[0;36m<module>\u001b[0;34m()\u001b[0m\n\u001b[0;32m----> 1\u001b[0;31m \u001b[0ma\u001b[0m \u001b[0;34m=\u001b[0m \u001b[0mFourCal\u001b[0m\u001b[0;34m(\u001b[0m\u001b[0;34m)\u001b[0m   \u001b[0;31m# TypeError:\u001b[0m\u001b[0;34m\u001b[0m\u001b[0;34m\u001b[0m\u001b[0m\n\u001b[0m\u001b[1;32m      2\u001b[0m \u001b[0;34m\u001b[0m\u001b[0m\n\u001b[1;32m      3\u001b[0m \u001b[0ma\u001b[0m \u001b[0;34m=\u001b[0m \u001b[0mFourCal\u001b[0m\u001b[0;34m(\u001b[0m\u001b[0;36m4\u001b[0m\u001b[0;34m,\u001b[0m \u001b[0;36m2\u001b[0m\u001b[0;34m)\u001b[0m\u001b[0;34m\u001b[0m\u001b[0;34m\u001b[0m\u001b[0m\n\u001b[1;32m      4\u001b[0m \u001b[0ma\u001b[0m\u001b[0;34m.\u001b[0m\u001b[0mfirst\u001b[0m\u001b[0;34m,\u001b[0m \u001b[0ma\u001b[0m\u001b[0;34m.\u001b[0m\u001b[0msecond\u001b[0m\u001b[0;34m\u001b[0m\u001b[0;34m\u001b[0m\u001b[0m\n\u001b[1;32m      5\u001b[0m \u001b[0;34m\u001b[0m\u001b[0m\n",
            "\u001b[0;31mTypeError\u001b[0m: __init__() missing 2 required positional arguments: 'first' and 'second'"
          ]
        }
      ]
    },
    {
      "cell_type": "markdown",
      "metadata": {
        "id": "6tMD7mw7gRem"
      },
      "source": [
        "# 클래스의 상속\n",
        "- 상속은 기존 클래스를 변경하지 않고 기능을 추가하거나 기존 기능을 변경하려 할 때 사용"
      ]
    },
    {
      "cell_type": "code",
      "metadata": {
        "colab": {
          "base_uri": "https://localhost:8080/"
        },
        "id": "sO-7_b4HgOdD",
        "outputId": "2840e515-1909-48bb-c971-a02d37d27611"
      },
      "source": [
        "print(\"클래스의 상속\")\n",
        "# 상속은 기존 클래스를 변경하지 않고 기능을 추가하거나 \n",
        "# 기존 기능을 변경하려고 할 때 사용\n",
        "#######################################\n",
        "# \n",
        "# class 클래스 이름(상속할 클래스 이름)\n",
        "# \n",
        "# 클래스 FourCal를 상속하는 \n",
        "# class MoreFourCal\n",
        "# FourCal 클래스에 a^b (a의 b제곱)을 구할 수 있는 기능을 추가\n",
        "#\n",
        "\n",
        "class MoreFourCal(FourCal):\n",
        "    pass\n",
        "\n",
        "\n",
        "a = MoreFourCal(4, 2)\n",
        "a.add(), a.mul()"
      ],
      "execution_count": 29,
      "outputs": [
        {
          "output_type": "stream",
          "text": [
            "클래스의 상속\n"
          ],
          "name": "stdout"
        },
        {
          "output_type": "execute_result",
          "data": {
            "text/plain": [
              "(6, 8)"
            ]
          },
          "metadata": {
            "tags": []
          },
          "execution_count": 29
        }
      ]
    },
    {
      "cell_type": "code",
      "metadata": {
        "colab": {
          "base_uri": "https://localhost:8080/"
        },
        "id": "M5hNk8HXgc4X",
        "outputId": "e7e4cb7b-ae78-40c0-af3c-17db14506f24"
      },
      "source": [
        "class MoreFourCal(FourCal):\n",
        "    def pow(self):\n",
        "        result = self.first ** self.second\n",
        "        return result\n",
        "    \n",
        "\n",
        "a = MoreFourCal(4, 2)\n",
        "a.add(), a.mul()\n",
        "\n",
        "a.pow()\n",
        "\n",
        "# 상속은 MoreFourCal 클래스처럼 기존 클래스(FourCal)는 \n",
        "# 그대로 놔둔 채 클래스의 기능을 확장시킬 때 주로 사용.\n",
        "\n",
        "#######################################"
      ],
      "execution_count": 30,
      "outputs": [
        {
          "output_type": "execute_result",
          "data": {
            "text/plain": [
              "16"
            ]
          },
          "metadata": {
            "tags": []
          },
          "execution_count": 30
        }
      ]
    },
    {
      "cell_type": "markdown",
      "metadata": {
        "id": "elM8zG7qgife"
      },
      "source": [
        "# 메서드 오버라이딩\n",
        "- 기존의 함수(메소드)를 수정/보완하여 재정의"
      ]
    },
    {
      "cell_type": "code",
      "metadata": {
        "colab": {
          "base_uri": "https://localhost:8080/",
          "height": 330
        },
        "id": "tFm0nBxMgfzj",
        "outputId": "00605f33-9f9d-421f-c7e8-5909cc9fda2f"
      },
      "source": [
        "print(\"메서드 오버라이딩\")\n",
        "# 기존의 함수(메소드)를 수정/보완하여 재정의\n",
        "#######################################\n",
        "# \n",
        "a = FourCal(4, 0)\n",
        "a.div()  # ZeroDivisionError:"
      ],
      "execution_count": 32,
      "outputs": [
        {
          "output_type": "stream",
          "text": [
            "메서드 오버라이딩\n"
          ],
          "name": "stdout"
        },
        {
          "output_type": "error",
          "ename": "ZeroDivisionError",
          "evalue": "ignored",
          "traceback": [
            "\u001b[0;31m---------------------------------------------------------------------------\u001b[0m",
            "\u001b[0;31mZeroDivisionError\u001b[0m                         Traceback (most recent call last)",
            "\u001b[0;32m<ipython-input-32-3475dfec5868>\u001b[0m in \u001b[0;36m<module>\u001b[0;34m()\u001b[0m\n\u001b[1;32m      4\u001b[0m \u001b[0;31m#\u001b[0m\u001b[0;34m\u001b[0m\u001b[0;34m\u001b[0m\u001b[0;34m\u001b[0m\u001b[0m\n\u001b[1;32m      5\u001b[0m \u001b[0ma\u001b[0m \u001b[0;34m=\u001b[0m \u001b[0mFourCal\u001b[0m\u001b[0;34m(\u001b[0m\u001b[0;36m4\u001b[0m\u001b[0;34m,\u001b[0m \u001b[0;36m0\u001b[0m\u001b[0;34m)\u001b[0m\u001b[0;34m\u001b[0m\u001b[0;34m\u001b[0m\u001b[0m\n\u001b[0;32m----> 6\u001b[0;31m \u001b[0ma\u001b[0m\u001b[0;34m.\u001b[0m\u001b[0mdiv\u001b[0m\u001b[0;34m(\u001b[0m\u001b[0;34m)\u001b[0m  \u001b[0;31m# ZeroDivisionError:\u001b[0m\u001b[0;34m\u001b[0m\u001b[0;34m\u001b[0m\u001b[0m\n\u001b[0m",
            "\u001b[0;32m<ipython-input-27-3253d65d6ed7>\u001b[0m in \u001b[0;36mdiv\u001b[0;34m(self)\u001b[0m\n\u001b[1;32m     21\u001b[0m \u001b[0;34m\u001b[0m\u001b[0m\n\u001b[1;32m     22\u001b[0m     \u001b[0;32mdef\u001b[0m \u001b[0mdiv\u001b[0m\u001b[0;34m(\u001b[0m\u001b[0mself\u001b[0m\u001b[0;34m)\u001b[0m\u001b[0;34m:\u001b[0m\u001b[0;34m\u001b[0m\u001b[0;34m\u001b[0m\u001b[0m\n\u001b[0;32m---> 23\u001b[0;31m         \u001b[0mresult\u001b[0m \u001b[0;34m=\u001b[0m \u001b[0mself\u001b[0m\u001b[0;34m.\u001b[0m\u001b[0mfirst\u001b[0m \u001b[0;34m/\u001b[0m \u001b[0mself\u001b[0m\u001b[0;34m.\u001b[0m\u001b[0msecond\u001b[0m\u001b[0;34m\u001b[0m\u001b[0;34m\u001b[0m\u001b[0m\n\u001b[0m\u001b[1;32m     24\u001b[0m         \u001b[0;32mreturn\u001b[0m \u001b[0mresult\u001b[0m\u001b[0;34m\u001b[0m\u001b[0;34m\u001b[0m\u001b[0m\n",
            "\u001b[0;31mZeroDivisionError\u001b[0m: division by zero"
          ]
        }
      ]
    },
    {
      "cell_type": "code",
      "metadata": {
        "colab": {
          "base_uri": "https://localhost:8080/"
        },
        "id": "KiPqD4o4gu8D",
        "outputId": "8b903da3-79f1-4d9a-a852-e7600115b03b"
      },
      "source": [
        "# 메서드 오버라이딩 (Overriding)\n",
        "class SafeFourCal(FourCal):\n",
        "    def div(self):\n",
        "        if self.second == 0:  # 나누는 값이 0인 경우 0을 리턴하도록 수정\n",
        "            print(\"분모는 0을 사용할 수 없다.\")\n",
        "            return 0\n",
        "        else:\n",
        "            return self.first / self.second\n",
        "    \n",
        "\n",
        "\n",
        "a = SafeFourCal(4, 0)\n",
        "a.div()  # 메서드 오버라이딩 사용\n",
        "\n",
        "#######################################"
      ],
      "execution_count": 33,
      "outputs": [
        {
          "output_type": "stream",
          "text": [
            "분모는 0을 사용할 수 없다.\n"
          ],
          "name": "stdout"
        },
        {
          "output_type": "execute_result",
          "data": {
            "text/plain": [
              "0"
            ]
          },
          "metadata": {
            "tags": []
          },
          "execution_count": 33
        }
      ]
    },
    {
      "cell_type": "markdown",
      "metadata": {
        "id": "5mH9Bv27gy6W"
      },
      "source": [
        "# 클래스 변수\n",
        "- 객체변수와 클래스 변수의 차이?\n",
        "- 객체변수 : 객체.변수\n",
        "- 클래스변수 : 클래스.변수"
      ]
    },
    {
      "cell_type": "code",
      "metadata": {
        "colab": {
          "base_uri": "https://localhost:8080/"
        },
        "id": "EOgIJxkRgrdK",
        "outputId": "4b07315d-f8df-42e0-c0f8-e592dc9e4df4"
      },
      "source": [
        "print(\"클래스 변수\")\n",
        "# 객체변수와 클래스변수의 차이?\n",
        "# 객체변수   :   객체.변수\n",
        "# 클래스변수 : 클래스.변수\n",
        "#######################################\n",
        "# \n",
        "class Family:\n",
        "    lastname = \"김\"   # 클래스변수"
      ],
      "execution_count": 34,
      "outputs": [
        {
          "output_type": "stream",
          "text": [
            "클래스 변수\n"
          ],
          "name": "stdout"
        }
      ]
    },
    {
      "cell_type": "code",
      "metadata": {
        "colab": {
          "base_uri": "https://localhost:8080/"
        },
        "id": "IXJXrqPihCe4",
        "outputId": "eb5fc9bb-6514-494c-88c3-494531b40ada"
      },
      "source": [
        "# 클래스이름.클래스 변수로 사용\n",
        "Family.lastname\n",
        "\n",
        "# 객체변수로 접근\n",
        "a = Family()\n",
        "b = Family()\n",
        "\n",
        "print(a.lastname)\n",
        "print(b.lastname)\n",
        "id(a.lastname), id(b.lastname)"
      ],
      "execution_count": 35,
      "outputs": [
        {
          "output_type": "stream",
          "text": [
            "김\n",
            "김\n"
          ],
          "name": "stdout"
        },
        {
          "output_type": "execute_result",
          "data": {
            "text/plain": [
              "(139817088541600, 139817088541600)"
            ]
          },
          "metadata": {
            "tags": []
          },
          "execution_count": 35
        }
      ]
    },
    {
      "cell_type": "code",
      "metadata": {
        "colab": {
          "base_uri": "https://localhost:8080/"
        },
        "id": "DOcIOZUrhEtk",
        "outputId": "8a11061f-c5a0-40f7-eb1a-5de9a2fbc64c"
      },
      "source": [
        "# 클래스변수를 변경하면?\n",
        "Family.lastname = \"박\"\n",
        "\n",
        "print(a.lastname)\n",
        "print(b.lastname)\n",
        "id(a.lastname), id(b.lastname), id(Family.lastname)\n",
        "# 클래스 변수가 공유됨을 확인."
      ],
      "execution_count": 36,
      "outputs": [
        {
          "output_type": "stream",
          "text": [
            "박\n",
            "박\n"
          ],
          "name": "stdout"
        },
        {
          "output_type": "execute_result",
          "data": {
            "text/plain": [
              "(139817088544320, 139817088544320, 139817088544320)"
            ]
          },
          "metadata": {
            "tags": []
          },
          "execution_count": 36
        }
      ]
    },
    {
      "cell_type": "code",
      "metadata": {
        "colab": {
          "base_uri": "https://localhost:8080/"
        },
        "id": "AGG18vANhHOs",
        "outputId": "9eb2f74f-4063-451f-a4d7-415e6e68a933"
      },
      "source": [
        "# 객체변수를 변경하면?\n",
        "a.lastname = \"이\"\n",
        "a.lastname, b.lastname, Family.lastname\n",
        "id(a.lastname), id(b.lastname), id(Family.lastname)\n",
        "\n",
        "# 실무 프로그래밍에는 클래스 변수보다는 객체변수를 많이 사용."
      ],
      "execution_count": 37,
      "outputs": [
        {
          "output_type": "execute_result",
          "data": {
            "text/plain": [
              "(139817088600864, 139817088544320, 139817088544320)"
            ]
          },
          "metadata": {
            "tags": []
          },
          "execution_count": 37
        }
      ]
    },
    {
      "cell_type": "markdown",
      "metadata": {
        "id": "InFiozTjVOrv"
      },
      "source": [
        "- 모듈\n",
        "   - 모듈 만들기\n",
        "   - 모듈 불러오기\n",
        "   - if __name__ == \"__main__\": 의 의미\n",
        "   - 클래스나 변수 등을 포함한 모듈\n",
        "   - 다른 파일에서 모듈 불러오기"
      ]
    },
    {
      "cell_type": "markdown",
      "metadata": {
        "id": "aYxi69BxhTtZ"
      },
      "source": [
        "# 모듈이란 무엇인가?\n",
        "- 모듈이란 함수나 변수 또는 클래스를 모아 놓은 파이썬 파일"
      ]
    },
    {
      "cell_type": "code",
      "metadata": {
        "id": "-1H6FtDIVauP",
        "colab": {
          "base_uri": "https://localhost:8080/"
        },
        "outputId": "77491390-267f-464c-b775-58260cad8e24"
      },
      "source": [
        "# ch5_02_module.py\n",
        "#\n",
        "print(\"모듈이란 무엇인가?\")\n",
        "#######################################\n",
        "# 모듈이란 함수나 변수 또는 클래스를 모아 놓은 파이썬 파일\n",
        "#######################################"
      ],
      "execution_count": 38,
      "outputs": [
        {
          "output_type": "stream",
          "text": [
            "모듈이란 무엇인가?\n"
          ],
          "name": "stdout"
        }
      ]
    },
    {
      "cell_type": "markdown",
      "metadata": {
        "id": "mBDQho51heCc"
      },
      "source": [
        "# 모듈 만들기"
      ]
    },
    {
      "cell_type": "code",
      "metadata": {
        "colab": {
          "base_uri": "https://localhost:8080/",
          "height": 52
        },
        "id": "QtiLWaA7ha6D",
        "outputId": "b7b55343-7eb7-4e96-e010-3ac81bc465a9"
      },
      "source": [
        "print(\"모듈 만들기\")\n",
        "#######################################\n",
        "# 간단한 모듈을 한번 만들어 보자.\n",
        "#######################################\n",
        "# \n",
        "\n",
        "# mod1.py를 현재 폴더에 저장\n",
        "'''\n",
        "# mod1.py\n",
        "def add(a, b):\n",
        "    return a + b\n",
        "def sub(a, b): \n",
        "    return a-b\n",
        "'''\n",
        "\n",
        "# 파이썬 확장자 .py로 만든 파이썬 파일은 모두 모듈이다."
      ],
      "execution_count": 1,
      "outputs": [
        {
          "output_type": "stream",
          "text": [
            "모듈 만들기\n"
          ],
          "name": "stdout"
        },
        {
          "output_type": "execute_result",
          "data": {
            "application/vnd.google.colaboratory.intrinsic+json": {
              "type": "string"
            },
            "text/plain": [
              "'\\n# mod1.py\\ndef add(a, b):\\n    return a + b\\ndef sub(a, b): \\n    return a-b\\n'"
            ]
          },
          "metadata": {
            "tags": []
          },
          "execution_count": 1
        }
      ]
    },
    {
      "cell_type": "markdown",
      "metadata": {
        "id": "g5MDaa_nhkZY"
      },
      "source": [
        "# 모듈 불러오기\n",
        "- import 모듈명 import는 이미 만들어 놓은 파이썬 모듈을 사용할 수 있게 해주는 명령어\n",
        "- import *.py"
      ]
    },
    {
      "cell_type": "code",
      "metadata": {
        "colab": {
          "base_uri": "https://localhost:8080/"
        },
        "id": "Lri_mG0whhbq",
        "outputId": "49d05f61-bbb7-4307-af9a-475a3d51634c"
      },
      "source": [
        "print(\"모듈 불러오기\")\n",
        "#######################################\n",
        "# import 모듈명\n",
        "# import는 이미 만들어 놓은 파이썬 모듈을 사용할 수 있게 해주는 명령어\n",
        "#######################################\n",
        "# \n",
        "# 현재 폴더에 있는 모듈, mod1.py를 연결하기.\n",
        "#\n",
        "import mod1\n",
        "print(mod1.add(3, 4))\n",
        "\n",
        "print(mod1.sub(7, 2))"
      ],
      "execution_count": 2,
      "outputs": [
        {
          "output_type": "stream",
          "text": [
            "모듈 불러오기\n",
            "7\n",
            "5\n"
          ],
          "name": "stdout"
        }
      ]
    },
    {
      "cell_type": "code",
      "metadata": {
        "colab": {
          "base_uri": "https://localhost:8080/"
        },
        "id": "_oXUeMuAhqbT",
        "outputId": "30a7b8c9-d840-425f-ac46-7f87e43f9281"
      },
      "source": [
        "#######################################\n",
        "# 모듈 내부 함수 이용\n",
        "# from 모듈이름 import 모듈함수\n",
        "#######################################\n",
        "#\n",
        "from mod1 import add\n",
        "add(3, 4)"
      ],
      "execution_count": 3,
      "outputs": [
        {
          "output_type": "execute_result",
          "data": {
            "text/plain": [
              "7"
            ]
          },
          "metadata": {
            "tags": []
          },
          "execution_count": 3
        }
      ]
    },
    {
      "cell_type": "code",
      "metadata": {
        "colab": {
          "base_uri": "https://localhost:8080/"
        },
        "id": "lrlCvZ6ciHGo",
        "outputId": "ce973320-f45d-4873-c86d-e61dd28373a2"
      },
      "source": [
        "# from 모듈이름 import *\n",
        "# from mod1 import add, sub\n",
        "from mod1 import *\n",
        "\n",
        "add(3, 4)\n",
        "sub(7, 3)"
      ],
      "execution_count": 4,
      "outputs": [
        {
          "output_type": "execute_result",
          "data": {
            "text/plain": [
              "4"
            ]
          },
          "metadata": {
            "tags": []
          },
          "execution_count": 4
        }
      ]
    },
    {
      "cell_type": "code",
      "metadata": {
        "id": "YdlqXf5Phxvw"
      },
      "source": [
        "print(\"if __name__ == \"__main__\": 의 의미\")\n",
        "#######################################\n",
        "# import 모듈명\n",
        "# import는 이미 만들어 놓은 파이썬 모듈을 \n",
        "# 사용할 수 있게 해주는 명령어\n",
        "#######################################\n",
        "# \n",
        "\n",
        "# mod1.py 파일을 다음과 같이 변경해 보자.\n",
        "'''\n",
        "# mod1.py \n",
        "def add(a, b): \n",
        "    return a+b\n",
        "def sub(a, b): \n",
        "    return a-b\n",
        "print(add(1, 4))\n",
        "print(sub(4, 2))\n",
        "'''\n",
        "\n",
        "###################################\n",
        "# cmd에서 실행하시오.\n",
        "# python mod1.py\n",
        "###################################\n",
        "'''\n",
        "python mod1.py\n",
        "5\n",
        "2\n",
        "'''"
      ],
      "execution_count": null,
      "outputs": []
    },
    {
      "cell_type": "code",
      "metadata": {
        "colab": {
          "base_uri": "https://localhost:8080/"
        },
        "id": "W98ACw7IYyr8",
        "outputId": "d4ba5561-79c4-4d13-f086-6ecec983445c"
      },
      "source": [
        "run mod1.py"
      ],
      "execution_count": 8,
      "outputs": [
        {
          "output_type": "stream",
          "text": [
            "5\n",
            "2\n"
          ],
          "name": "stdout"
        }
      ]
    },
    {
      "cell_type": "code",
      "metadata": {
        "colab": {
          "base_uri": "https://localhost:8080/"
        },
        "id": "5TzCoMy1iQtz",
        "outputId": "50efcdbb-a92e-4500-c794-aa64b64ca77b"
      },
      "source": [
        "import mod1\n",
        "# 5\n",
        "# 2\n",
        "print(__name__)"
      ],
      "execution_count": 9,
      "outputs": [
        {
          "output_type": "stream",
          "text": [
            "__main__\n"
          ],
          "name": "stdout"
        }
      ]
    },
    {
      "cell_type": "code",
      "metadata": {
        "colab": {
          "base_uri": "https://localhost:8080/"
        },
        "id": "YID_7y4qiUgg",
        "outputId": "6684536c-fc45-4e2b-a2dd-ebe8b54f2928"
      },
      "source": [
        "print(__name__)"
      ],
      "execution_count": 10,
      "outputs": [
        {
          "output_type": "stream",
          "text": [
            "__main__\n"
          ],
          "name": "stdout"
        }
      ]
    },
    {
      "cell_type": "code",
      "metadata": {
        "colab": {
          "base_uri": "https://localhost:8080/"
        },
        "id": "Z7jdaTIAiTYN",
        "outputId": "ac72b691-cc0a-411f-dcf4-f0f5c6750acf"
      },
      "source": [
        "'''\n",
        "# mod2.py \n",
        "def add(a, b): \n",
        "    return a+b\n",
        "def sub(a, b): \n",
        "    return a-b\n",
        "if __name__ == \"__main__\":\n",
        "    print(add(1, 4))\n",
        "    print(sub(4, 2))\n",
        "'''\n",
        "\n",
        "import mod2\n",
        "print(__name__)"
      ],
      "execution_count": 11,
      "outputs": [
        {
          "output_type": "stream",
          "text": [
            "__main__\n"
          ],
          "name": "stdout"
        }
      ]
    },
    {
      "cell_type": "code",
      "metadata": {
        "colab": {
          "base_uri": "https://localhost:8080/"
        },
        "id": "6N_uauHGZNxi",
        "outputId": "eb233ef4-76cd-4e7a-91ec-ad6bc167c331"
      },
      "source": [
        "run mod2.py"
      ],
      "execution_count": 12,
      "outputs": [
        {
          "output_type": "stream",
          "text": [
            "5\n",
            "2\n"
          ],
          "name": "stdout"
        }
      ]
    },
    {
      "cell_type": "markdown",
      "metadata": {
        "id": "a0yiSfdUieqc"
      },
      "source": [
        "##### if __name__ == \"__main__\"을 사용하면 C:\\doit>python mod1.py처럼 직접 이 파일을 실행했을 때는 __name__ == \"__main__\"이 참이 되어 if문 다음 문장이 수행된다. 반대로 대화형 인터프리터나 다른 파일에서 이 모듈을 불러서 사용할 때는 __name__ == \"__main__\"이 거짓이 되어 if문 다음 문장이 수행되지 않는다."
      ]
    },
    {
      "cell_type": "markdown",
      "metadata": {
        "id": "U5Z3YWzoi89N"
      },
      "source": [
        "# **12주에 계속**"
      ]
    },
    {
      "cell_type": "markdown",
      "metadata": {
        "id": "hTT9_MVXisRb"
      },
      "source": [
        "# 클래스나 변수 등을 포함한 모듈\n",
        "- 클래스나 변수 등을 포함하는 모듈"
      ]
    },
    {
      "cell_type": "code",
      "metadata": {
        "id": "yT82lbM3ibjp"
      },
      "source": [
        "print(\"클래스나 변수 등을 포함한 모듈\")\n",
        "#######################################\n",
        "# 클래스나 변수 등을 포함하는 모듈\n",
        "#######################################\n",
        "# \n",
        "'''\n",
        "# mod3.py \n",
        "PI = 3.141592\n",
        "class Math: \n",
        "    def solv(self, r): \n",
        "        return PI * (r ** 2) \n",
        "def add(a, b): \n",
        "    return a+b \n",
        "'''\n",
        "\n",
        "import mod3\n",
        "\n",
        "print(mod3.PI)\n",
        "\n",
        "a = mod3.Math()\n",
        "print(a.solv(2))\n",
        "\n",
        "print(mod3.add(mod3.PI, 4.4))\n",
        "\n",
        "print(\"다른 파일에서 모듈 불러오기\")\n",
        "#######################################\n",
        "# 다른 파이썬 파일에서 이전에 만들어 놓은 \n",
        "# 모듈을 불러와서 사용하는 방법\n",
        "#######################################\n",
        "# \n",
        "'''\n",
        "# modtest.py\n",
        "import mod2\n",
        "result = mod2.add(3, 4)\n",
        "print(result)\n",
        "'''\n",
        "###################################\n",
        "# cmd에서 실행하시오.\n",
        "# python modtest.py\n",
        "###################################\n",
        "# 참고: 현재 폴더로 경로 설정 (path)\n",
        "# import sys\n",
        "# sys.path.append(\"current_path\")\n",
        "# sys.path\n"
      ],
      "execution_count": null,
      "outputs": []
    },
    {
      "cell_type": "markdown",
      "metadata": {
        "id": "DFZHMh5pVq82"
      },
      "source": [
        "- 패키지\n",
        "   - 패키지란 무엇인가?\n",
        "   - 패키지 만들기\n",
        "   - 패키지 안의 함수 실행하기\n",
        "   - __init__.py 의 용도\n",
        "   - relative 패키지"
      ]
    },
    {
      "cell_type": "code",
      "metadata": {
        "id": "fGBlcLGN-3pd"
      },
      "source": [
        "# ch5_03_package.py\n",
        "#\n",
        "print(\"패키지란 무엇인가?\")\n",
        "#######################################\n",
        "# 파이썬 모듈들을 모아놓은 폴더로 구성\n",
        "# 유사한 기능을 가진 모듈들을 묶어서 구성\n",
        "#######################################\n",
        "#\n",
        "# 가상의 game 패키지 예\n",
        "#\n",
        "\"\"\"\n",
        "game/\n",
        "    __init__.py\n",
        "    sound/\n",
        "        __init__.py\n",
        "        echo.py\n",
        "        wav.py\n",
        "    graphic/\n",
        "        __init__.py\n",
        "        screen.py\n",
        "        render.py\n",
        "    play/\n",
        "        __init__.py\n",
        "        run.py\n",
        "        test.py\n",
        "\"\"\"\n",
        "# game 디렉터리가 이 패키지의 루트 디렉터리이고\n",
        "# sound, graphic, play는 서브 디렉터리이다.\n",
        "\n",
        "print(\"패키지 만들기\")\n",
        "#######################################\n",
        "# 패키지 기본 구성 요소 준비하기\n",
        "#######################################\n",
        "# 1. 루트폴더, 서버폴더 만들기\n",
        "# 2. *.py 소스파일 준비\n",
        "\n",
        "#\n",
        "# 1. 루트폴더, 서버폴더 만들기\n",
        "\"\"\"\n",
        "./game/__init__.py\n",
        "./game/sound/__init__.py\n",
        "./game/sound/echo.py\n",
        "./game/graphic/__init__.py\n",
        "./game/graphic/render.py\n",
        "\"\"\"\n",
        "\n",
        "#\n",
        "# 2. *.py 소스파일 준비\n",
        "\"\"\"\n",
        "각 디렉터리에 __init__.py 파일을 만들어 놓기만 하고 \n",
        "내용은 일단 비워 둔다.\n",
        "# echo.py\n",
        "def echo_test():\n",
        "    print (\"echo\")\n",
        "# render.py\n",
        "def render_test():\n",
        "    print (\"render\")\n",
        "\"\"\"\n",
        "# 현재 폴더 내에 game 폴더가 포함됨.\n",
        "#\n",
        "\n",
        "\n",
        "print(\"패키지 안의 함수 실행하기\")\n",
        "#######################################\n",
        "# package를 import하여 내부 함수 실행\n",
        "#######################################\n",
        "#\n",
        "# 1. echo 모듈을 import하여 실행\n",
        "import game.sound.echo\n",
        "\n",
        "game.sound.echo.echo_test()\n",
        "\n",
        "# 2. echo 모듈이 있는 디렉터리까지를 from ... import하여 실행\n",
        "from game.sound import echo\n",
        "\n",
        "echo.echo_test()\n",
        "\n",
        "# 3. echo 모듈의 echo_test 함수를 직접 import하여 실행\n",
        "from game.sound.echo import echo_test\n",
        "\n",
        "echo_test()\n",
        "\n",
        "\n",
        "#\n",
        "# 다음과 같이 echo_test 함수를 사용하는 것은 불가능\n",
        "import game\n",
        "\n",
        "game.sound.echo.echo_test()\n",
        "\n",
        "import game.sound.echo.echo_test  # ModuleNotFoundError:\n",
        "\n",
        "\n",
        "print(\"__init__.py 의 용도\")\n",
        "#######################################\n",
        "# __init__.py 파일은 해당 디렉터리가 패키지의 일부임을 알려주는 역할\n",
        "# 만약 game, sound, graphic 등 패키지에 포함된 디렉터리에\n",
        "# __init__.py 파일이 없다면 패키지로 인식되지 않는다.\n",
        "#######################################\n",
        "#\n",
        "from game.sound import *\n",
        "\n",
        "echo.echo_test()\n",
        "\n",
        "\n",
        "print(\"relative 패키지\")\n",
        "#######################################\n",
        "# 만약 graphic 디렉터리의 render.py 모듈이\n",
        "# sound 디렉터리의 echo.py 모듈을 사용\n",
        "#\n",
        "# render.py를 수정\n",
        "#######################################\n",
        "#\n",
        "from game.graphic.render import render_test\n",
        "\n",
        "render_test()\n",
        "\n",
        "# .. : parent folder\n",
        "#  . : current folder\n",
        "\"\"\"\n",
        "# render.py\n",
        "from ..sound.echo import echo_test\n",
        "def render_test():\n",
        "    print (\"render\")\n",
        "    echo_test()\n",
        "\"\"\"\n",
        "\n",
        "\n",
        "\"\"\"\n",
        "# render.py\n",
        "from game.sound.echo import echo_test\n",
        "def render_test():\n",
        "    print (\"render\")\n",
        "    echo_test()\n",
        "\"\"\"\n"
      ],
      "execution_count": null,
      "outputs": []
    }
  ]
}