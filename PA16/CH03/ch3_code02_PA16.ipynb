{
  "nbformat": 4,
  "nbformat_minor": 0,
  "metadata": {
    "colab": {
      "name": "ch3_code02-PA16",
      "provenance": [],
      "collapsed_sections": []
    },
    "kernelspec": {
      "display_name": "Python 3",
      "language": "python",
      "name": "python3"
    },
    "language_info": {
      "codemirror_mode": {
        "name": "ipython",
        "version": 3
      },
      "file_extension": ".py",
      "mimetype": "text/x-python",
      "name": "python",
      "nbconvert_exporter": "python",
      "pygments_lexer": "ipython3",
      "version": "3.7.5"
    }
  },
  "cells": [
    {
      "cell_type": "markdown",
      "metadata": {
        "id": "H4jNE-BMAK3f"
      },
      "source": [
        "# ch3_code02.ipynb\n",
        "## py00  (change to your id)\n",
        "---\n",
        "- 반복문: for\n",
        "    - for ~ in ***:\n",
        "    - range()\n",
        "---\n",
        "\n",
        "- **리스트 내포(List comprehension)**\n",
        "\n",
        "***\n",
        "- **for 문과 iterator**\n",
        "    - for ~ range()\n",
        "    - for ~ enumerate()\n",
        "    - for ~ zip()\n",
        "    "
      ]
    },
    {
      "cell_type": "code",
      "metadata": {
        "id": "R-73g3-Cqz9C",
        "colab": {
          "base_uri": "https://localhost:8080/",
          "height": 88
        },
        "outputId": "6a02b2a2-a395-49cd-c165-c9ba08b800da"
      },
      "source": [
        "# ch3_03_for.py\n",
        "#\n",
        "print(\"for 문은 어떻게 사용?\")\n",
        "# 반복해서 문장을 수행해야 할 경우 for문을 사용한다. \n",
        "\n",
        "############################\n",
        "print(\"for문의 기본 구조\")\n",
        "'''\n",
        "for 변수 in 리스트(또는 튜플, 문자열):\n",
        "    수행할 문장1\n",
        "    수행할 문장2\n",
        "    ...\n",
        "'''"
      ],
      "execution_count": null,
      "outputs": [
        {
          "output_type": "stream",
          "text": [
            "for 문은 어떻게 사용?\n",
            "for문의 기본 구조\n"
          ],
          "name": "stdout"
        },
        {
          "output_type": "execute_result",
          "data": {
            "application/vnd.google.colaboratory.intrinsic+json": {
              "type": "string"
            },
            "text/plain": [
              "'\\nfor 변수 in 리스트(또는 튜플, 문자열):\\n    수행할 문장1\\n    수행할 문장2\\n    ...\\n'"
            ]
          },
          "metadata": {
            "tags": []
          },
          "execution_count": 1
        }
      ]
    },
    {
      "cell_type": "code",
      "metadata": {
        "colab": {
          "base_uri": "https://localhost:8080/"
        },
        "id": "pAvlYXllvAJL",
        "outputId": "3b72976a-76fb-455e-fab1-67e667b535f6"
      },
      "source": [
        "#\n",
        "############################\n",
        "print(\"예제를 통해 for문 이해하기\")\n",
        "############################\n",
        "#\n",
        "# 1. 전형적인 for문\n",
        "#\n",
        "test_list = ['one', 'two', 'three'] \n",
        "for i in test_list:\n",
        "    print(i)\n",
        "    "
      ],
      "execution_count": null,
      "outputs": [
        {
          "output_type": "stream",
          "text": [
            "예제를 통해 for문 이해하기\n",
            "one\n",
            "two\n",
            "three\n"
          ],
          "name": "stdout"
        }
      ]
    },
    {
      "cell_type": "code",
      "metadata": {
        "colab": {
          "base_uri": "https://localhost:8080/"
        },
        "id": "xBT7As_rvVIF",
        "outputId": "d9df8857-ef6d-4341-b385-69531d9e5545"
      },
      "source": [
        "my_list = [10,20,30,40,50]\n",
        "for item in my_list:\n",
        "  print(item)\n",
        "  print(item*2)\n"
      ],
      "execution_count": null,
      "outputs": [
        {
          "output_type": "stream",
          "text": [
            "10\n",
            "20\n",
            "20\n",
            "40\n",
            "30\n",
            "60\n",
            "40\n",
            "80\n",
            "50\n",
            "100\n"
          ],
          "name": "stdout"
        }
      ]
    },
    {
      "cell_type": "code",
      "metadata": {
        "colab": {
          "base_uri": "https://localhost:8080/"
        },
        "id": "UiveH_PtvO1t",
        "outputId": "5ecdab06-e6e7-464d-d4dc-675dea70b8ce"
      },
      "source": [
        "#\n",
        "# 2. 다양한 for문의 사용\n",
        "#\n",
        "a = [(1,2), (3,4), (5,6)]\n",
        "\n",
        "for (first, last) in a:\n",
        "    print(first + last)\n"
      ],
      "execution_count": null,
      "outputs": [
        {
          "output_type": "stream",
          "text": [
            "3\n",
            "7\n",
            "11\n"
          ],
          "name": "stdout"
        }
      ]
    },
    {
      "cell_type": "code",
      "metadata": {
        "colab": {
          "base_uri": "https://localhost:8080/"
        },
        "id": "WeD1SnFXwCHu",
        "outputId": "d2c4dbcf-b0fb-4cb8-81b2-1736c8ccd3ec"
      },
      "source": [
        "#\n",
        "# 3. for문의 응용\n",
        "#\n",
        "# \"총 5명의 학생이 시험을 보았는데 시험 점수가 60점이 넘으면 \n",
        "# 합격이고 그렇지 않으면 불합격이다. \n",
        "# 합격인지 불합격인지 결과를 보여 주시오.\"\n",
        "#\n",
        "# marks1.py\n",
        "#\n",
        "marks = [90, 25, 67, 45, 80]\n",
        "\n",
        "number = 0 \n",
        "for mark in marks: \n",
        "    number = number +1 \n",
        "    if mark >= 60: \n",
        "        print(\"%d번 학생은 합격입니다.\" % number)\n",
        "    else: \n",
        "        print(\"%d번 학생은 불합격입니다.\" % number)\n",
        "\n",
        "###################################\n",
        "# cmd에서 실행하시오.\n",
        "# python marks1.py\n",
        "###################################"
      ],
      "execution_count": null,
      "outputs": [
        {
          "output_type": "stream",
          "text": [
            "1번 학생은 합격입니다.\n",
            "2번 학생은 불합격입니다.\n",
            "3번 학생은 합격입니다.\n",
            "4번 학생은 불합격입니다.\n",
            "5번 학생은 합격입니다.\n"
          ],
          "name": "stdout"
        }
      ]
    },
    {
      "cell_type": "code",
      "metadata": {
        "colab": {
          "base_uri": "https://localhost:8080/"
        },
        "id": "Ah4lC7LExJt0",
        "outputId": "893679a6-7389-47a8-f8ec-8e8a80b83267"
      },
      "source": [
        "run marks1.py"
      ],
      "execution_count": null,
      "outputs": [
        {
          "output_type": "stream",
          "text": [
            "1번 학생은 합격입니다.\n",
            "2번 학생은 불합격입니다.\n",
            "3번 학생은 합격입니다.\n",
            "4번 학생은 불합격입니다.\n",
            "5번 학생은 합격입니다.\n"
          ],
          "name": "stdout"
        }
      ]
    },
    {
      "cell_type": "code",
      "metadata": {
        "colab": {
          "base_uri": "https://localhost:8080/"
        },
        "id": "ErvYBu9vxe9-",
        "outputId": "08bbd710-ac4c-4aad-8e69-4e673be13da1"
      },
      "source": [
        "#\n",
        "###################################\n",
        "print(\"for문과 continue\")\n",
        "###################################\n",
        "# for문 안의 문장을 수행하는 도중에 continue문을 만나면 \n",
        "# for문의 처음으로 돌아가게 된다.\n",
        "#\n",
        "# 앞에서 for문 응용 예제를 그대로 사용해서 60점 이상인 사람에게는 \n",
        "# 축하 메시지를 보내고 나머지 사람에게는 아무 메시지도 전하지 않는 \n",
        "# 프로그램을 작성.\n",
        "#\n",
        "# marks2.py \n",
        "marks = [90, 25, 67, 45, 80]\n",
        "\n",
        "number = 0 \n",
        "for mark in marks: \n",
        "    number = number +1 \n",
        "    if mark < 60:\n",
        "        continue \n",
        "    print(\"%d번 학생 축하합니다. 합격입니다. \" % number)\n",
        "\n",
        "###################################\n",
        "# cmd에서 실행하시오.\n",
        "# python marks2.py\n",
        "###################################"
      ],
      "execution_count": null,
      "outputs": [
        {
          "output_type": "stream",
          "text": [
            "for문과 continue\n",
            "1번 학생 축하합니다. 합격입니다. \n",
            "3번 학생 축하합니다. 합격입니다. \n",
            "5번 학생 축하합니다. 합격입니다. \n"
          ],
          "name": "stdout"
        }
      ]
    },
    {
      "cell_type": "code",
      "metadata": {
        "colab": {
          "base_uri": "https://localhost:8080/"
        },
        "id": "c4zYSCBTyEyi",
        "outputId": "caed20a5-13e1-40d5-9ee1-3381f576d076"
      },
      "source": [
        "run marks2.py"
      ],
      "execution_count": null,
      "outputs": [
        {
          "output_type": "stream",
          "text": [
            "1번 학생 축하합니다. 합격입니다. \n",
            "3번 학생 축하합니다. 합격입니다. \n",
            "5번 학생 축하합니다. 합격입니다. \n"
          ],
          "name": "stdout"
        }
      ]
    },
    {
      "cell_type": "markdown",
      "metadata": {
        "id": "WDCKeMX9yOrd"
      },
      "source": [
        "### range()\n",
        "- range(start, end)\n",
        "- range(start, end, step)\n",
        "- range(end)"
      ]
    },
    {
      "cell_type": "code",
      "metadata": {
        "colab": {
          "base_uri": "https://localhost:8080/"
        },
        "id": "g1fXIZbIya58",
        "outputId": "bdbcab48-6037-4005-dcda-dbd9f6481998"
      },
      "source": [
        "a1 = range(5) # range(0,5)\n",
        "print(a1)\n",
        "list(a1)"
      ],
      "execution_count": null,
      "outputs": [
        {
          "output_type": "stream",
          "text": [
            "range(0, 5)\n"
          ],
          "name": "stdout"
        },
        {
          "output_type": "execute_result",
          "data": {
            "text/plain": [
              "[0, 1, 2, 3, 4]"
            ]
          },
          "metadata": {
            "tags": []
          },
          "execution_count": 18
        }
      ]
    },
    {
      "cell_type": "code",
      "metadata": {
        "colab": {
          "base_uri": "https://localhost:8080/"
        },
        "id": "OrxZIQDmys3k",
        "outputId": "b95026c7-77e8-45ea-e3e5-c0b3fa29bd50"
      },
      "source": [
        "a2 = range(0,10,2)\n",
        "list(a2)"
      ],
      "execution_count": null,
      "outputs": [
        {
          "output_type": "execute_result",
          "data": {
            "text/plain": [
              "[0, 2, 4, 6, 8]"
            ]
          },
          "metadata": {
            "tags": []
          },
          "execution_count": 19
        }
      ]
    },
    {
      "cell_type": "code",
      "metadata": {
        "colab": {
          "base_uri": "https://localhost:8080/"
        },
        "id": "SpTul3N7xo3m",
        "outputId": "8065637d-caf8-4a18-ff31-41362426c271"
      },
      "source": [
        "#\n",
        "###################################\n",
        "print(\"for문과 함께 자주 사용하는 range 함수\")\n",
        "# range(number)\n",
        "# range(시작 숫자, 끝 숫자)\n",
        "###################################\n",
        "#\n",
        "a = range(10)\n",
        "a\n",
        "list(a)\n",
        "\n",
        "# a = range(1, 11)\n",
        "# a"
      ],
      "execution_count": null,
      "outputs": [
        {
          "output_type": "stream",
          "text": [
            "for문과 함께 자주 사용하는 range 함수\n"
          ],
          "name": "stdout"
        },
        {
          "output_type": "execute_result",
          "data": {
            "text/plain": [
              "[0, 1, 2, 3, 4, 5, 6, 7, 8, 9]"
            ]
          },
          "metadata": {
            "tags": []
          },
          "execution_count": 21
        }
      ]
    },
    {
      "cell_type": "code",
      "metadata": {
        "id": "O0CxTGGly4tJ",
        "colab": {
          "base_uri": "https://localhost:8080/"
        },
        "outputId": "442e640e-90ab-4906-80e0-85a82b1fe395"
      },
      "source": [
        "#\n",
        "# range 함수를 이용한 코드\n",
        "#\n",
        "add = 0 \n",
        "for i in range(1, 11): \n",
        "    add = add + i\n",
        "\n",
        "print(add)\n",
        "\n",
        "#marks3.py\n",
        "marks = [90, 25, 67, 45, 80]\n",
        "for number in range(len(marks)):\n",
        "    if marks[number] < 60: \n",
        "        continue\n",
        "    print(\"%d번 학생 축하합니다. 합격입니다.\" % (number+1))\n",
        "\n",
        "\n",
        "###################################\n",
        "# cmd에서 실행하시오.\n",
        "# python marks3.py\n",
        "###################################\n"
      ],
      "execution_count": 1,
      "outputs": [
        {
          "output_type": "stream",
          "text": [
            "55\n",
            "1번 학생 축하합니다. 합격입니다.\n",
            "3번 학생 축하합니다. 합격입니다.\n",
            "5번 학생 축하합니다. 합격입니다.\n"
          ],
          "name": "stdout"
        }
      ]
    },
    {
      "cell_type": "code",
      "metadata": {
        "colab": {
          "base_uri": "https://localhost:8080/"
        },
        "id": "gsnrTAOgZqKB",
        "outputId": "bfc64799-ed1d-41f8-9d5e-bc42d2dfe574"
      },
      "source": [
        "run marks3.py"
      ],
      "execution_count": 2,
      "outputs": [
        {
          "output_type": "stream",
          "text": [
            "1번 학생 축하합니다. 합격입니다.\n",
            "3번 학생 축하합니다. 합격입니다.\n",
            "5번 학생 축하합니다. 합격입니다.\n"
          ],
          "name": "stdout"
        }
      ]
    },
    {
      "cell_type": "code",
      "metadata": {
        "id": "a_eich-jZMrq",
        "colab": {
          "base_uri": "https://localhost:8080/"
        },
        "outputId": "e04969c7-b0f3-4bf0-a19c-220141f383c7"
      },
      "source": [
        "#\n",
        "###################################\n",
        "print(\"for와 range를 이용한 구구단\")\n",
        "# for와 range 함수를 사용하면 \n",
        "# 소스 코드 단 4줄만으로 구구단을 출력\n",
        "###################################\n",
        "#\n",
        "# 중첩 for 문\n",
        "for i in range(2,10):         # ①번 for문 (i-loop)\n",
        "     for j in range(1, 10):   # ②번 for문 (j-loop)\n",
        "         print(i*j, end=\" \") \n",
        "     print('')   # 줄 바꿈\n"
      ],
      "execution_count": 3,
      "outputs": [
        {
          "output_type": "stream",
          "text": [
            "for와 range를 이용한 구구단\n",
            "2 4 6 8 10 12 14 16 18 \n",
            "3 6 9 12 15 18 21 24 27 \n",
            "4 8 12 16 20 24 28 32 36 \n",
            "5 10 15 20 25 30 35 40 45 \n",
            "6 12 18 24 30 36 42 48 54 \n",
            "7 14 21 28 35 42 49 56 63 \n",
            "8 16 24 32 40 48 56 64 72 \n",
            "9 18 27 36 45 54 63 72 81 \n"
          ],
          "name": "stdout"
        }
      ]
    },
    {
      "cell_type": "code",
      "metadata": {
        "colab": {
          "base_uri": "https://localhost:8080/"
        },
        "id": "dUGFkqdwaG70",
        "outputId": "d86580ec-7a3f-4aeb-e7dd-4b8379002a57"
      },
      "source": [
        "# 아래와 같이 출력하도록 코드를 변경해보시오.\n",
        "#############################################################\n",
        "# 2 X 1 = 2 2 X 2 = 4 2 X 3 = 6 2 X 4 = 8 2 X 5 = 10 2 X 6 = 12 2 X 7 = 14 2 X 8 = 16 2 X 9 = 18\n",
        "# 3 X 1 = 3 3 X 2 = 6 3 X 3 = 9 3 X 4 = 12 3 X 5 = 15 3 X 6 = 18 3 X 7 = 21 3 X 8 = 24 3 X 9 = 27\n",
        "# 4 X 1 = 4 4 X 2 = 8 4 X 3 = 12 4 X 4 = 16 4 X 5 = 20 4 X 6 = 24 4 X 7 = 28 4 X 8 = 32 4 X 9 = 36\n",
        "# 5 X 1 = 5 5 X 2 = 10 5 X 3 = 15 5 X 4 = 20 5 X 5 = 25 5 X 6 = 30 5 X 7 = 35 5 X 8 = 40 5 X 9 = 45\n",
        "# 6 X 1 = 6 6 X 2 = 12 6 X 3 = 18 6 X 4 = 24 6 X 5 = 30 6 X 6 = 36 6 X 7 = 42 6 X 8 = 48 6 X 9 = 54\n",
        "# 7 X 1 = 7 7 X 2 = 14 7 X 3 = 21 7 X 4 = 28 7 X 5 = 35 7 X 6 = 42 7 X 7 = 49 7 X 8 = 56 7 X 9 = 63\n",
        "# 8 X 1 = 8 8 X 2 = 16 8 X 3 = 24 8 X 4 = 32 8 X 5 = 40 8 X 6 = 48 8 X 7 = 56 8 X 8 = 64 8 X 9 = 72\n",
        "# 9 X 1 = 9 9 X 2 = 18 9 X 3 = 27 9 X 4 = 36 9 X 5 = 45 9 X 6 = 54 9 X 7 = 63 9 X 8 = 72 9 X 9 = 81\n",
        "#############################################################\n",
        "# \n",
        "for i in range(2,10):        # ①번 for문\n",
        "     for j in range(1, 10):   # ②번 for문\n",
        "         print(i, \"X\", j, \"=\", i*j, end=\"  \") \n",
        "     print('') \n"
      ],
      "execution_count": 4,
      "outputs": [
        {
          "output_type": "stream",
          "text": [
            "2 X 1 = 2  2 X 2 = 4  2 X 3 = 6  2 X 4 = 8  2 X 5 = 10  2 X 6 = 12  2 X 7 = 14  2 X 8 = 16  2 X 9 = 18  \n",
            "3 X 1 = 3  3 X 2 = 6  3 X 3 = 9  3 X 4 = 12  3 X 5 = 15  3 X 6 = 18  3 X 7 = 21  3 X 8 = 24  3 X 9 = 27  \n",
            "4 X 1 = 4  4 X 2 = 8  4 X 3 = 12  4 X 4 = 16  4 X 5 = 20  4 X 6 = 24  4 X 7 = 28  4 X 8 = 32  4 X 9 = 36  \n",
            "5 X 1 = 5  5 X 2 = 10  5 X 3 = 15  5 X 4 = 20  5 X 5 = 25  5 X 6 = 30  5 X 7 = 35  5 X 8 = 40  5 X 9 = 45  \n",
            "6 X 1 = 6  6 X 2 = 12  6 X 3 = 18  6 X 4 = 24  6 X 5 = 30  6 X 6 = 36  6 X 7 = 42  6 X 8 = 48  6 X 9 = 54  \n",
            "7 X 1 = 7  7 X 2 = 14  7 X 3 = 21  7 X 4 = 28  7 X 5 = 35  7 X 6 = 42  7 X 7 = 49  7 X 8 = 56  7 X 9 = 63  \n",
            "8 X 1 = 8  8 X 2 = 16  8 X 3 = 24  8 X 4 = 32  8 X 5 = 40  8 X 6 = 48  8 X 7 = 56  8 X 8 = 64  8 X 9 = 72  \n",
            "9 X 1 = 9  9 X 2 = 18  9 X 3 = 27  9 X 4 = 36  9 X 5 = 45  9 X 6 = 54  9 X 7 = 63  9 X 8 = 72  9 X 9 = 81  \n"
          ],
          "name": "stdout"
        }
      ]
    },
    {
      "cell_type": "markdown",
      "metadata": {
        "id": "YB5gxXIXaTz9"
      },
      "source": [
        "### 리스트 내포"
      ]
    },
    {
      "cell_type": "code",
      "metadata": {
        "id": "JHdslDTDZJo5",
        "colab": {
          "base_uri": "https://localhost:8080/"
        },
        "outputId": "df2c4793-8dba-476d-e9e1-0318080a9dd9"
      },
      "source": [
        "#\n",
        "#######################################\n",
        "print(\"리스트 내포(List comprehension)\")\n",
        "#######################################\n",
        "#\n",
        "\n",
        "a = [1,2,3,4]\n",
        "result = []\n",
        "for num in a:\n",
        "    result.append(num*3)\n",
        "\n",
        "\n",
        "print(result)\n"
      ],
      "execution_count": 6,
      "outputs": [
        {
          "output_type": "stream",
          "text": [
            "리스트 내포(List comprehension)\n",
            "[3, 6, 9, 12]\n"
          ],
          "name": "stdout"
        }
      ]
    },
    {
      "cell_type": "code",
      "metadata": {
        "colab": {
          "base_uri": "https://localhost:8080/"
        },
        "id": "7rnOdUrUai5M",
        "outputId": "4a3c5222-47f5-4c33-b7b0-5a7aba4de96f"
      },
      "source": [
        "result"
      ],
      "execution_count": 7,
      "outputs": [
        {
          "output_type": "execute_result",
          "data": {
            "text/plain": [
              "[3, 6, 9, 12]"
            ]
          },
          "metadata": {
            "tags": []
          },
          "execution_count": 7
        }
      ]
    },
    {
      "cell_type": "code",
      "metadata": {
        "colab": {
          "base_uri": "https://localhost:8080/"
        },
        "id": "MYWh74XwaesZ",
        "outputId": "d8f5e641-ec46-4b22-9da2-332574aeb948"
      },
      "source": [
        "# 리쓰트 내포\n",
        "a = [1,2,3,4]\n",
        "result = [num*3 for num in a]\n",
        "print(result)"
      ],
      "execution_count": 8,
      "outputs": [
        {
          "output_type": "stream",
          "text": [
            "[3, 6, 9, 12]\n"
          ],
          "name": "stdout"
        }
      ]
    },
    {
      "cell_type": "code",
      "metadata": {
        "colab": {
          "base_uri": "https://localhost:8080/"
        },
        "id": "FW42EKrma1I8",
        "outputId": "2524ac9c-cdee-4ec3-f822-6a904d2320f4"
      },
      "source": [
        "\n",
        "#\n",
        "#############################################\n",
        "print(\"리스트 내포의 일반 문법\")\n",
        "#\n",
        "# [표현식 for 항목 in 반복가능객체 if 조건문]\n",
        "# -----------------------------------------\n",
        "#\n",
        "# 일반화\n",
        "# [표현식 for 항목1 in 반복가능객체1 if 조건문1\n",
        "#         for 항목2 in 반복가능객체2 if 조건문2\n",
        "#         ...\n",
        "#         for 항목n in 반복가능객체n if 조건문n]\n",
        "##############################################\n",
        "#\n",
        "# 예1. 구구단의 모든 결과를 리스트에 담는 코드\n",
        "#\n",
        "result = [x*y for x in range(2,10) for y in range(1,10)]\n"
      ],
      "execution_count": 9,
      "outputs": [
        {
          "output_type": "stream",
          "text": [
            "리스트 내포의 일반 문법\n"
          ],
          "name": "stdout"
        }
      ]
    },
    {
      "cell_type": "code",
      "metadata": {
        "colab": {
          "base_uri": "https://localhost:8080/"
        },
        "id": "9w_pJ82AbDyM",
        "outputId": "25ecf664-b5af-4e31-e31e-6020ece10fdd"
      },
      "source": [
        "print(result)"
      ],
      "execution_count": 13,
      "outputs": [
        {
          "output_type": "stream",
          "text": [
            "[1, 4, 3, 8, 5, 12, 7, 16, 9]\n"
          ],
          "name": "stdout"
        }
      ]
    },
    {
      "cell_type": "code",
      "metadata": {
        "colab": {
          "base_uri": "https://localhost:8080/"
        },
        "id": "w8i5XAWXbLXu",
        "outputId": "b9163c6b-d775-4c33-e891-4c898cfead32"
      },
      "source": [
        "len(result)"
      ],
      "execution_count": 14,
      "outputs": [
        {
          "output_type": "execute_result",
          "data": {
            "text/plain": [
              "9"
            ]
          },
          "metadata": {
            "tags": []
          },
          "execution_count": 14
        }
      ]
    },
    {
      "cell_type": "code",
      "metadata": {
        "colab": {
          "base_uri": "https://localhost:8080/"
        },
        "id": "IEgWqilBa90B",
        "outputId": "bea60bf4-7a1a-4c5a-e520-2e6a9af37f1a"
      },
      "source": [
        "#\n",
        "# 예2. 9 이하의 정수 중 짝수는 2배로, 홀수는 그대로 리스트에 담는 코드\n",
        "#\n",
        "x = [1, 2, 3, 4, 5, 6, 7, 8, 9]  # -> [1, 4, 3, 8, 5, 12, 7, 16, 9]\n",
        "result = []\n",
        "for idx in range(len(x)):\n",
        "    if x[idx] % 2 == 0:\n",
        "        result.append(x[idx] * 2)\n",
        "    else:\n",
        "        result.append(x[idx])\n",
        "result\n",
        "#\n",
        "# 짝수만 추출하여 2배로 만든 리스트 구성\n",
        "[element * 2 for element in x if element % 2 == 0]\n",
        "# 그러면 짝수는 2배로, 홀수는 그대로 리스트에 담는 코드는?\n",
        "[(element * 2 if element % 2 == 0 else element) for element in x]"
      ],
      "execution_count": 15,
      "outputs": [
        {
          "output_type": "execute_result",
          "data": {
            "text/plain": [
              "[1, 4, 3, 8, 5, 12, 7, 16, 9]"
            ]
          },
          "metadata": {
            "tags": []
          },
          "execution_count": 15
        }
      ]
    },
    {
      "cell_type": "code",
      "metadata": {
        "colab": {
          "base_uri": "https://localhost:8080/"
        },
        "id": "7Qjcv0g8bl_m",
        "outputId": "110c0f95-7312-4d83-88d6-2a072740d921"
      },
      "source": [
        "x=[1,2,3,4]\n",
        "[(element * 2 if element % 2 == 0 else element) for element in x]"
      ],
      "execution_count": 16,
      "outputs": [
        {
          "output_type": "execute_result",
          "data": {
            "text/plain": [
              "[1, 4, 3, 8]"
            ]
          },
          "metadata": {
            "tags": []
          },
          "execution_count": 16
        }
      ]
    },
    {
      "cell_type": "markdown",
      "metadata": {
        "id": "9g7xRxjgb8NY"
      },
      "source": [
        "##for 문과 iterator\n",
        "- range()\n",
        "- enumerate()\n",
        "- zip()"
      ]
    },
    {
      "cell_type": "code",
      "metadata": {
        "id": "YkW8fS6Pqz9E",
        "colab": {
          "base_uri": "https://localhost:8080/"
        },
        "outputId": "755ddab5-3ef6-48d2-e281-cb4ba45aa238"
      },
      "source": [
        "# ch3_04_for_iterates.py\n",
        "#\n",
        "############################\n",
        "print(\"for 문과 iterator\")\n",
        "############################\n",
        "subjects = ['python', 'english', 'math', 'science']\n",
        "scores = [88, 77, 66, 95]\n",
        "#\n",
        "print(\"과목명 출력\")\n",
        "for subject in subjects:\n",
        "    print(subject)\n",
        "\n",
        "\n",
        "#\n",
        "print(\"과목 점수 출력\")\n",
        "for score in scores:\n",
        "    print(score)"
      ],
      "execution_count": 18,
      "outputs": [
        {
          "output_type": "stream",
          "text": [
            "for 문과 iterator\n",
            "과목명 출력\n",
            "python\n",
            "english\n",
            "math\n",
            "science\n",
            "과목 점수 출력\n",
            "88\n",
            "77\n",
            "66\n",
            "95\n"
          ],
          "name": "stdout"
        }
      ]
    },
    {
      "cell_type": "markdown",
      "metadata": {
        "id": "7o36ojmfcgot"
      },
      "source": [
        "## enumerate()를 이용한 출력"
      ]
    },
    {
      "cell_type": "code",
      "metadata": {
        "colab": {
          "base_uri": "https://localhost:8080/"
        },
        "id": "cNrdlQ0Pb0bc",
        "outputId": "4548f581-ffc5-4847-fcde-f560394f0a7f"
      },
      "source": [
        "#\n",
        "print(\"enumerate()를 이용한 출력\")\n",
        "for position, subject in enumerate(subjects):\n",
        "    print(position,subject)\n"
      ],
      "execution_count": 19,
      "outputs": [
        {
          "output_type": "stream",
          "text": [
            "enumerate()를 이용한 출력\n",
            "0 python\n",
            "1 english\n",
            "2 math\n",
            "3 science\n"
          ],
          "name": "stdout"
        }
      ]
    },
    {
      "cell_type": "code",
      "metadata": {
        "colab": {
          "base_uri": "https://localhost:8080/"
        },
        "id": "CR9eoi-AcnWr",
        "outputId": "03b0409a-40e5-4e64-d7c2-99c3d45d267d"
      },
      "source": [
        "#\n",
        "for position, subject in enumerate(subjects):\n",
        "    print(subjects[position])\n"
      ],
      "execution_count": 20,
      "outputs": [
        {
          "output_type": "stream",
          "text": [
            "python\n",
            "english\n",
            "math\n",
            "science\n"
          ],
          "name": "stdout"
        }
      ]
    },
    {
      "cell_type": "code",
      "metadata": {
        "colab": {
          "base_uri": "https://localhost:8080/"
        },
        "id": "vnWbWUcMcsrl",
        "outputId": "b5901370-b2e5-4051-ce39-b6d03cf81e6e"
      },
      "source": [
        "# 도전 [DIY]\n",
        "\n",
        "print(\"enumerate()를 이용하여 점수를 출력해보시오.\")\n",
        "#\n",
        "#\n",
        "for position, score in enumerate(scores):\n",
        "    print(scores[position])\n"
      ],
      "execution_count": 21,
      "outputs": [
        {
          "output_type": "stream",
          "text": [
            "enumerate()를 이용하여 점수를 출력해보시오.\n",
            "88\n",
            "77\n",
            "66\n",
            "95\n"
          ],
          "name": "stdout"
        }
      ]
    },
    {
      "cell_type": "code",
      "metadata": {
        "colab": {
          "base_uri": "https://localhost:8080/"
        },
        "id": "wl3qK5vwc23g",
        "outputId": "db990cd1-58a7-4a40-b13d-a85713af17f6"
      },
      "source": [
        "#\n",
        "############################\n",
        "print(\"for 문과 itrator의 응용: 복합 문자열 리스트\")\n",
        "############################\n",
        "subjects = ['python', 'english', 'math', 'science']\n",
        "scores = [88, 77, 66, 95]\n",
        "# Method-1\n",
        "for position in range(len(subjects)):\n",
        "    subject = subjects[position]\n",
        "    score = scores[position]\n",
        "    print(subject, score)"
      ],
      "execution_count": 22,
      "outputs": [
        {
          "output_type": "stream",
          "text": [
            "for 문과 itrator의 응용: 복합 문자열 리스트\n",
            "python 88\n",
            "english 77\n",
            "math 66\n",
            "science 95\n"
          ],
          "name": "stdout"
        }
      ]
    },
    {
      "cell_type": "code",
      "metadata": {
        "colab": {
          "base_uri": "https://localhost:8080/"
        },
        "id": "p-QKc-LkdEJK",
        "outputId": "852233f4-e0c8-4d30-8d33-4e5be6e701b5"
      },
      "source": [
        "# Method-2\n",
        "for position, subject in enumerate(subjects):\n",
        "    score = scores[position]\n",
        "    print(subject, score)"
      ],
      "execution_count": 23,
      "outputs": [
        {
          "output_type": "stream",
          "text": [
            "python 88\n",
            "english 77\n",
            "math 66\n",
            "science 95\n"
          ],
          "name": "stdout"
        }
      ]
    },
    {
      "cell_type": "markdown",
      "metadata": {
        "id": "JOyyoTONdRIK"
      },
      "source": [
        "## zip()"
      ]
    },
    {
      "cell_type": "code",
      "metadata": {
        "colab": {
          "base_uri": "https://localhost:8080/"
        },
        "id": "qFf9nLtudZAP",
        "outputId": "1a696aba-b09d-4e09-f369-eb7892d47594"
      },
      "source": [
        "zip(subjects, scores)\n",
        "list(zip(subjects, scores))"
      ],
      "execution_count": 27,
      "outputs": [
        {
          "output_type": "execute_result",
          "data": {
            "text/plain": [
              "[('python', 88), ('english', 77), ('math', 66), ('science', 95)]"
            ]
          },
          "metadata": {
            "tags": []
          },
          "execution_count": 27
        }
      ]
    },
    {
      "cell_type": "code",
      "metadata": {
        "colab": {
          "base_uri": "https://localhost:8080/"
        },
        "id": "ByYP9zbvdNYu",
        "outputId": "d7e115cb-f694-4c0e-ed48-8989b96cf731"
      },
      "source": [
        "# Method-3\n",
        "for subject, score in zip(subjects, scores):\n",
        "    print(subject, score)"
      ],
      "execution_count": 24,
      "outputs": [
        {
          "output_type": "stream",
          "text": [
            "python 88\n",
            "english 77\n",
            "math 66\n",
            "science 95\n"
          ],
          "name": "stdout"
        }
      ]
    },
    {
      "cell_type": "code",
      "metadata": {
        "colab": {
          "base_uri": "https://localhost:8080/"
        },
        "id": "lmqVzz1PdUHg",
        "outputId": "ee06a1c2-ab1b-435f-e534-3ce6d6d984ce"
      },
      "source": [
        "# 응용 코드 : 평균 성적을 구하시오.\n",
        "subjects = ['python', 'english', 'math', 'science']\n",
        "scores = [88, 77, 66, 95]\n",
        "\n",
        "average = 0\n",
        "total = 0\n",
        "for subject, score in zip(subjects, scores):\n",
        "    total += score\n",
        "    print(subject, score)\n",
        "\n",
        "print(\"평균 점수 = {0}\".format(total/len(subjects)))\n",
        "\n",
        "# So Cool!\n"
      ],
      "execution_count": 28,
      "outputs": [
        {
          "output_type": "stream",
          "text": [
            "python 88\n",
            "english 77\n",
            "math 66\n",
            "science 95\n",
            "평균 점수 = 81.5\n"
          ],
          "name": "stdout"
        }
      ]
    },
    {
      "cell_type": "code",
      "metadata": {
        "id": "wjs1e7zxqz9G"
      },
      "source": [
        ""
      ],
      "execution_count": null,
      "outputs": []
    }
  ]
}